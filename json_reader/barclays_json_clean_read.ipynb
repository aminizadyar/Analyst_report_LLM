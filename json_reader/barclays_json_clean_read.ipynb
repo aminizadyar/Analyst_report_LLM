{
 "cells": [
  {
   "cell_type": "code",
   "execution_count": 1,
   "metadata": {},
   "outputs": [
    {
     "name": "stdout",
     "output_type": "stream",
     "text": [
      "43437\n"
     ]
    },
    {
     "ename": "KeyError",
     "evalue": "0",
     "output_type": "error",
     "traceback": [
      "\u001b[1;31m---------------------------------------------------------------------------\u001b[0m",
      "\u001b[1;31mKeyError\u001b[0m                                  Traceback (most recent call last)",
      "Cell \u001b[1;32mIn[1], line 9\u001b[0m\n\u001b[0;32m      7\u001b[0m data_li \u001b[38;5;241m=\u001b[39m \u001b[38;5;28mlist\u001b[39m(data\u001b[38;5;241m.\u001b[39mitems()) \n\u001b[0;32m      8\u001b[0m \u001b[38;5;28mprint\u001b[39m(\u001b[38;5;28mlen\u001b[39m(data))\n\u001b[1;32m----> 9\u001b[0m \u001b[43mdata\u001b[49m\u001b[43m[\u001b[49m\u001b[38;5;241;43m0\u001b[39;49m\u001b[43m]\u001b[49m\n",
      "\u001b[1;31mKeyError\u001b[0m: 0"
     ]
    }
   ],
   "source": [
    "import get_company_name\n",
    "import config\n",
    "import json\n",
    "\n",
    "with open('Clean_data_BARCLAYS.json', 'r') as file:\n",
    "    data = json.load(file)\n",
    "\n",
    "# converting the json to list\n",
    "data_li = list(data.items()) \n",
    "print(len(data_li))\n",
    "data_li[0]"
   ]
  },
  {
   "cell_type": "markdown",
   "metadata": {},
   "source": [
    "Test for a single index:\n"
   ]
  },
  {
   "cell_type": "code",
   "execution_count": null,
   "metadata": {},
   "outputs": [],
   "source": [
    "i = 348\n",
    "text_lower = data_li[i][1][\"Content\"].lower() # for barclays\n",
    "\n",
    "company_name = text_lower.split(\"\\r\\n\")[0] # for barclays \n",
    "\n",
    "\n",
    "print(i, \" \" , company_name,\"\\n\")\n",
    "print(get_company_name.get_company_name_func(company_name,config.CLAUDE_API_KEY))\n",
    "text_lower"
   ]
  },
  {
   "cell_type": "markdown",
   "metadata": {},
   "source": [
    "looping over - DONE"
   ]
  },
  {
   "cell_type": "code",
   "execution_count": 33,
   "metadata": {},
   "outputs": [],
   "source": [
    "for i in range(400,500):\n",
    "\n",
    "    text_lower = data_li[i][1][\"Content\"].lower() # for barclays\n",
    "\n",
    "    company_name = text_lower.split(\"\\r\\n\")[0] # for barclays \n",
    "\n",
    "    if ~company_name.startswith(\"equity research\"):\n",
    "        print(i, \" \" , company_name,\"\\n\")\n",
    "        #print(get_company_name.get_company_name_func(company_name,config.CLAUDE_API_KEY))\n"
   ]
  }
 ],
 "metadata": {
  "kernelspec": {
   "display_name": "Python 3",
   "language": "python",
   "name": "python3"
  },
  "language_info": {
   "codemirror_mode": {
    "name": "ipython",
    "version": 3
   },
   "file_extension": ".py",
   "mimetype": "text/x-python",
   "name": "python",
   "nbconvert_exporter": "python",
   "pygments_lexer": "ipython3",
   "version": "3.11.3"
  }
 },
 "nbformat": 4,
 "nbformat_minor": 2
}
